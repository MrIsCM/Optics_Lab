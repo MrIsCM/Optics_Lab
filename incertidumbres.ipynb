{
 "cells": [
  {
   "cell_type": "code",
   "execution_count": 2,
   "metadata": {},
   "outputs": [],
   "source": [
    "import sympy as sp"
   ]
  },
  {
   "cell_type": "code",
   "execution_count": 3,
   "metadata": {},
   "outputs": [],
   "source": [
    "D, d = sp.symbols('D d')\n",
    "Delta_D, Delta_d = sp.symbols('Delta_D Delta_d')\n",
    "\n",
    "f = (D**2 - d**2)/(4*D)"
   ]
  },
  {
   "cell_type": "code",
   "execution_count": 4,
   "metadata": {},
   "outputs": [
    {
     "data": {
      "text/latex": [
       "$\\displaystyle \\frac{1}{2} - \\frac{D^{2} - d^{2}}{4 D^{2}}$"
      ],
      "text/plain": [
       "1/2 - (D**2 - d**2)/(4*D**2)"
      ]
     },
     "execution_count": 4,
     "metadata": {},
     "output_type": "execute_result"
    }
   ],
   "source": [
    "sp.diff(f, D)"
   ]
  },
  {
   "cell_type": "code",
   "execution_count": 5,
   "metadata": {},
   "outputs": [
    {
     "data": {
      "text/latex": [
       "$\\displaystyle - \\frac{d}{2 D}$"
      ],
      "text/plain": [
       "-d/(2*D)"
      ]
     },
     "execution_count": 5,
     "metadata": {},
     "output_type": "execute_result"
    }
   ],
   "source": [
    "sp.diff(f, d)"
   ]
  },
  {
   "cell_type": "code",
   "execution_count": 6,
   "metadata": {},
   "outputs": [],
   "source": [
    "delta_f = sp.sqrt((sp.diff(f, D)*Delta_D)**2 + (sp.diff(f, d)*Delta_d)**2)"
   ]
  },
  {
   "cell_type": "code",
   "execution_count": 7,
   "metadata": {},
   "outputs": [
    {
     "data": {
      "text/latex": [
       "$\\displaystyle \\sqrt{\\Delta_{D}^{2} \\left(\\frac{1}{2} - \\frac{D^{2} - d^{2}}{4 D^{2}}\\right)^{2} + \\frac{\\Delta_{d}^{2} d^{2}}{4 D^{2}}}$"
      ],
      "text/plain": [
       "sqrt(Delta_D**2*(1/2 - (D**2 - d**2)/(4*D**2))**2 + Delta_d**2*d**2/(4*D**2))"
      ]
     },
     "execution_count": 7,
     "metadata": {},
     "output_type": "execute_result"
    }
   ],
   "source": [
    "delta_f"
   ]
  },
  {
   "cell_type": "code",
   "execution_count": 8,
   "metadata": {},
   "outputs": [
    {
     "name": "stdout",
     "output_type": "stream",
     "text": [
      "\\sqrt{\\Delta_{D}^{2} \\left(\\frac{1}{2} - \\frac{D^{2} - d^{2}}{4 D^{2}}\\right)^{2} + \\frac{\\Delta_{d}^{2} d^{2}}{4 D^{2}}}\n"
     ]
    }
   ],
   "source": [
    "print(sp.latex(delta_f))"
   ]
  },
  {
   "cell_type": "code",
   "execution_count": 9,
   "metadata": {},
   "outputs": [],
   "source": [
    "z, z_tilda = sp.symbols('z z_tilda')\n",
    "Delta_z, Delta_z_tilda = sp.symbols('Delta_z Delta_z_tilda')\n",
    "\n",
    "f = (z*z_tilda)**(1/2)\n",
    "\n",
    "delta_f = sp.sqrt((sp.diff(f, z)*Delta_z)**2 + (sp.diff(f, z_tilda)*Delta_z_tilda)**2)"
   ]
  },
  {
   "cell_type": "code",
   "execution_count": 10,
   "metadata": {},
   "outputs": [
    {
     "data": {
      "text/plain": [
       "'0.5 \\\\sqrt{\\\\left(z z_{tilda}\\\\right)^{1.0} \\\\left(\\\\frac{\\\\Delta_{z}^{2}}{z^{2}} + \\\\frac{\\\\Delta_{z tilda}^{2}}{z_{tilda}^{2}}\\\\right)}'"
      ]
     },
     "execution_count": 10,
     "metadata": {},
     "output_type": "execute_result"
    }
   ],
   "source": [
    "sp.latex(delta_f.simplify())"
   ]
  }
 ],
 "metadata": {
  "kernelspec": {
   "display_name": "Python 3",
   "language": "python",
   "name": "python3"
  },
  "language_info": {
   "codemirror_mode": {
    "name": "ipython",
    "version": 3
   },
   "file_extension": ".py",
   "mimetype": "text/x-python",
   "name": "python",
   "nbconvert_exporter": "python",
   "pygments_lexer": "ipython3",
   "version": "3.12.1"
  }
 },
 "nbformat": 4,
 "nbformat_minor": 2
}
