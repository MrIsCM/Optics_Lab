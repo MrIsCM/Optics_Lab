{
 "cells": [
  {
   "cell_type": "code",
   "execution_count": 3,
   "metadata": {},
   "outputs": [],
   "source": [
    "import numpy as np\n",
    "import pandas as pd\n",
    "import matplotlib.pyplot as plt\n",
    "import seaborn as sns"
   ]
  },
  {
   "cell_type": "code",
   "execution_count": 4,
   "metadata": {},
   "outputs": [],
   "source": [
    "import sympy as sp"
   ]
  },
  {
   "cell_type": "code",
   "execution_count": 5,
   "metadata": {},
   "outputs": [],
   "source": [
    "plt.rc('font', size=14)\n",
    "plt.rc('axes', labelsize=14, titlesize=14)\n",
    "plt.rc('legend', fontsize=14)\n",
    "plt.rc('xtick', labelsize=10)\n",
    "plt.rc('ytick', labelsize=10)"
   ]
  },
  {
   "cell_type": "markdown",
   "metadata": {},
   "source": [
    "# Paraxiales"
   ]
  },
  {
   "cell_type": "code",
   "execution_count": 6,
   "metadata": {},
   "outputs": [],
   "source": [
    "parax = pd.read_csv('data/paraxiales.csv')"
   ]
  },
  {
   "cell_type": "code",
   "execution_count": 7,
   "metadata": {},
   "outputs": [],
   "source": [
    "parax['a'] = -(parax['Objeto'] - parax['Lente'])\n",
    "parax['a_prima'] = -(parax['Pantalla'] - parax['Lente'])"
   ]
  },
  {
   "cell_type": "code",
   "execution_count": 8,
   "metadata": {},
   "outputs": [
    {
     "data": {
      "text/html": [
       "<div>\n",
       "<style scoped>\n",
       "    .dataframe tbody tr th:only-of-type {\n",
       "        vertical-align: middle;\n",
       "    }\n",
       "\n",
       "    .dataframe tbody tr th {\n",
       "        vertical-align: top;\n",
       "    }\n",
       "\n",
       "    .dataframe thead th {\n",
       "        text-align: right;\n",
       "    }\n",
       "</style>\n",
       "<table border=\"1\" class=\"dataframe\">\n",
       "  <thead>\n",
       "    <tr style=\"text-align: right;\">\n",
       "      <th></th>\n",
       "      <th>Objeto</th>\n",
       "      <th>Lente</th>\n",
       "      <th>Pantalla</th>\n",
       "      <th>Tamaño</th>\n",
       "      <th>a</th>\n",
       "      <th>a_prima</th>\n",
       "    </tr>\n",
       "  </thead>\n",
       "  <tbody>\n",
       "    <tr>\n",
       "      <th>0</th>\n",
       "      <td>12.413</td>\n",
       "      <td>12.137</td>\n",
       "      <td>11.357</td>\n",
       "      <td>-0.057</td>\n",
       "      <td>-0.276</td>\n",
       "      <td>0.780</td>\n",
       "    </tr>\n",
       "    <tr>\n",
       "      <th>1</th>\n",
       "      <td>12.413</td>\n",
       "      <td>12.097</td>\n",
       "      <td>11.523</td>\n",
       "      <td>-0.036</td>\n",
       "      <td>-0.316</td>\n",
       "      <td>0.574</td>\n",
       "    </tr>\n",
       "    <tr>\n",
       "      <th>2</th>\n",
       "      <td>12.413</td>\n",
       "      <td>12.082</td>\n",
       "      <td>11.557</td>\n",
       "      <td>-0.032</td>\n",
       "      <td>-0.331</td>\n",
       "      <td>0.525</td>\n",
       "    </tr>\n",
       "    <tr>\n",
       "      <th>3</th>\n",
       "      <td>12.413</td>\n",
       "      <td>12.111</td>\n",
       "      <td>11.491</td>\n",
       "      <td>-0.042</td>\n",
       "      <td>-0.302</td>\n",
       "      <td>0.620</td>\n",
       "    </tr>\n",
       "    <tr>\n",
       "      <th>4</th>\n",
       "      <td>12.413</td>\n",
       "      <td>11.787</td>\n",
       "      <td>11.491</td>\n",
       "      <td>-0.009</td>\n",
       "      <td>-0.626</td>\n",
       "      <td>0.296</td>\n",
       "    </tr>\n",
       "    <tr>\n",
       "      <th>5</th>\n",
       "      <td>12.413</td>\n",
       "      <td>12.144</td>\n",
       "      <td>11.293</td>\n",
       "      <td>-0.065</td>\n",
       "      <td>-0.269</td>\n",
       "      <td>0.851</td>\n",
       "    </tr>\n",
       "    <tr>\n",
       "      <th>6</th>\n",
       "      <td>12.413</td>\n",
       "      <td>12.155</td>\n",
       "      <td>11.165</td>\n",
       "      <td>-0.078</td>\n",
       "      <td>-0.258</td>\n",
       "      <td>0.990</td>\n",
       "    </tr>\n",
       "    <tr>\n",
       "      <th>7</th>\n",
       "      <td>12.413</td>\n",
       "      <td>12.133</td>\n",
       "      <td>11.395</td>\n",
       "      <td>-0.054</td>\n",
       "      <td>-0.280</td>\n",
       "      <td>0.738</td>\n",
       "    </tr>\n",
       "    <tr>\n",
       "      <th>8</th>\n",
       "      <td>12.413</td>\n",
       "      <td>12.145</td>\n",
       "      <td>11.300</td>\n",
       "      <td>-0.064</td>\n",
       "      <td>-0.268</td>\n",
       "      <td>0.845</td>\n",
       "    </tr>\n",
       "    <tr>\n",
       "      <th>9</th>\n",
       "      <td>12.413</td>\n",
       "      <td>12.092</td>\n",
       "      <td>11.555</td>\n",
       "      <td>-0.034</td>\n",
       "      <td>-0.321</td>\n",
       "      <td>0.537</td>\n",
       "    </tr>\n",
       "    <tr>\n",
       "      <th>10</th>\n",
       "      <td>12.413</td>\n",
       "      <td>11.659</td>\n",
       "      <td>11.395</td>\n",
       "      <td>-0.007</td>\n",
       "      <td>-0.754</td>\n",
       "      <td>0.264</td>\n",
       "    </tr>\n",
       "    <tr>\n",
       "      <th>11</th>\n",
       "      <td>12.413</td>\n",
       "      <td>11.555</td>\n",
       "      <td>11.300</td>\n",
       "      <td>-0.005</td>\n",
       "      <td>-0.858</td>\n",
       "      <td>0.255</td>\n",
       "    </tr>\n",
       "    <tr>\n",
       "      <th>12</th>\n",
       "      <td>12.413</td>\n",
       "      <td>11.863</td>\n",
       "      <td>11.555</td>\n",
       "      <td>-0.012</td>\n",
       "      <td>-0.550</td>\n",
       "      <td>0.308</td>\n",
       "    </tr>\n",
       "  </tbody>\n",
       "</table>\n",
       "</div>"
      ],
      "text/plain": [
       "    Objeto   Lente  Pantalla  Tamaño      a  a_prima\n",
       "0   12.413  12.137    11.357  -0.057 -0.276    0.780\n",
       "1   12.413  12.097    11.523  -0.036 -0.316    0.574\n",
       "2   12.413  12.082    11.557  -0.032 -0.331    0.525\n",
       "3   12.413  12.111    11.491  -0.042 -0.302    0.620\n",
       "4   12.413  11.787    11.491  -0.009 -0.626    0.296\n",
       "5   12.413  12.144    11.293  -0.065 -0.269    0.851\n",
       "6   12.413  12.155    11.165  -0.078 -0.258    0.990\n",
       "7   12.413  12.133    11.395  -0.054 -0.280    0.738\n",
       "8   12.413  12.145    11.300  -0.064 -0.268    0.845\n",
       "9   12.413  12.092    11.555  -0.034 -0.321    0.537\n",
       "10  12.413  11.659    11.395  -0.007 -0.754    0.264\n",
       "11  12.413  11.555    11.300  -0.005 -0.858    0.255\n",
       "12  12.413  11.863    11.555  -0.012 -0.550    0.308"
      ]
     },
     "execution_count": 8,
     "metadata": {},
     "output_type": "execute_result"
    }
   ],
   "source": [
    "parax"
   ]
  },
  {
   "cell_type": "markdown",
   "metadata": {},
   "source": [
    "## Gauss\n",
    "\n",
    "$$\n",
    "- \\frac{1}{a} + \\frac{1}{a'} = \\frac{1}{f} \n",
    "$$"
   ]
  },
  {
   "cell_type": "code",
   "execution_count": 17,
   "metadata": {},
   "outputs": [
    {
     "name": "stdout",
     "output_type": "stream",
     "text": [
      "Slope: 1.0716 ± 0.0095\n",
      "Intercept: 5.1656 ± 0.0286\n",
      "R²: 0.9991\n"
     ]
    }
   ],
   "source": [
    "from scipy.stats import linregress\n",
    "\n",
    "x = 1/parax['a']\n",
    "y = 1/parax['a_prima']\n",
    "\n",
    "results = linregress(x, y)\n",
    "\n",
    "slope = results.slope\n",
    "intercept = results.intercept\n",
    "r2 = results.rvalue**2\n",
    "\n",
    "slope_error = results.stderr\n",
    "intercept_error = results.intercept_stderr\n",
    "\n",
    "print(f\"Slope: {slope:.4f} ± {slope_error:.4f}\")\n",
    "print(f\"Intercept: {intercept:.4f} ± {intercept_error:.4f}\")\n",
    "print(f\"R²: {r2:.4f}\")"
   ]
  },
  {
   "cell_type": "code",
   "execution_count": 10,
   "metadata": {},
   "outputs": [
    {
     "data": {
      "text/plain": [
       "<matplotlib.legend.Legend at 0x222d0410e60>"
      ]
     },
     "execution_count": 10,
     "metadata": {},
     "output_type": "execute_result"
    },
    {
     "data": {
      "image/png": "[encoded data removed]",
      "text/plain": [
       "<Figure size 1000x500 with 1 Axes>"
      ]
     },
     "metadata": {},
     "output_type": "display_data"
    }
   ],
   "source": [
    "sns.set_context('talk')\n",
    "sns.set_style('whitegrid')\n",
    "sns.set_palette('muted')\n",
    "\n",
    "plt.figure(figsize=(10, 5))\n",
    "\n",
    "X_new = np.linspace(x.min(), x.max(), 100)\n",
    "Y_new = slope * X_new + intercept\n",
    "plt.errorbar(1/parax['a'], 1/parax['a_prima'], xerr=abs(1/parax['a']**2)*0.002, yerr=abs(1/parax['a_prima']**2)*0.002, label='Inverso de a y a\\'', fmt='x')\n",
    "plt.plot(X_new, Y_new, '--', label='Ajuste lineal')\n",
    "\n",
    "plt.xlabel('1/a (m$^{-1}$)')\n",
    "plt.ylabel('1/a\\' (m$^{-1}$)')\n",
    "plt.title('Ajuste lineal de 1/a\\' en función de 1/a')\n",
    "plt.legend()"
   ]
  },
  {
   "cell_type": "code",
   "execution_count": 19,
   "metadata": {},
   "outputs": [
    {
     "name": "stdout",
     "output_type": "stream",
     "text": [
      "Slope % error: 0.07159081131441791\n",
      "Intercept % error: 0.03312242268289225\n"
     ]
    }
   ],
   "source": [
    "f = 0.187\n",
    "f_teo = 0.2\n",
    "print(f\"Slope % error: {slope-1}\")\n",
    "print(f\"Intercept % error: {(intercept-1/0.2)/(1/0.2)}\")"
   ]
  },
  {
   "cell_type": "markdown",
   "metadata": {},
   "source": [
    "## Ec de Newton"
   ]
  },
  {
   "cell_type": "code",
   "execution_count": 22,
   "metadata": {},
   "outputs": [
    {
     "data": {
      "text/html": [
       "<div>\n",
       "<style scoped>\n",
       "    .dataframe tbody tr th:only-of-type {\n",
       "        vertical-align: middle;\n",
       "    }\n",
       "\n",
       "    .dataframe tbody tr th {\n",
       "        vertical-align: top;\n",
       "    }\n",
       "\n",
       "    .dataframe thead th {\n",
       "        text-align: right;\n",
       "    }\n",
       "</style>\n",
       "<table border=\"1\" class=\"dataframe\">\n",
       "  <thead>\n",
       "    <tr style=\"text-align: right;\">\n",
       "      <th></th>\n",
       "      <th>Objeto</th>\n",
       "      <th>Lente</th>\n",
       "      <th>Pantalla</th>\n",
       "      <th>Tamaño</th>\n",
       "      <th>a</th>\n",
       "      <th>a_prima</th>\n",
       "      <th>z</th>\n",
       "      <th>z_prima</th>\n",
       "      <th>f_exp</th>\n",
       "    </tr>\n",
       "  </thead>\n",
       "  <tbody>\n",
       "    <tr>\n",
       "      <th>0</th>\n",
       "      <td>12.413</td>\n",
       "      <td>12.137</td>\n",
       "      <td>11.357</td>\n",
       "      <td>-0.057</td>\n",
       "      <td>-0.276</td>\n",
       "      <td>0.780</td>\n",
       "      <td>-0.089</td>\n",
       "      <td>0.593</td>\n",
       "      <td>0.187</td>\n",
       "    </tr>\n",
       "    <tr>\n",
       "      <th>1</th>\n",
       "      <td>12.413</td>\n",
       "      <td>12.097</td>\n",
       "      <td>11.523</td>\n",
       "      <td>-0.036</td>\n",
       "      <td>-0.316</td>\n",
       "      <td>0.574</td>\n",
       "      <td>-0.129</td>\n",
       "      <td>0.387</td>\n",
       "      <td>0.187</td>\n",
       "    </tr>\n",
       "    <tr>\n",
       "      <th>2</th>\n",
       "      <td>12.413</td>\n",
       "      <td>12.082</td>\n",
       "      <td>11.557</td>\n",
       "      <td>-0.032</td>\n",
       "      <td>-0.331</td>\n",
       "      <td>0.525</td>\n",
       "      <td>-0.144</td>\n",
       "      <td>0.338</td>\n",
       "      <td>0.187</td>\n",
       "    </tr>\n",
       "    <tr>\n",
       "      <th>3</th>\n",
       "      <td>12.413</td>\n",
       "      <td>12.111</td>\n",
       "      <td>11.491</td>\n",
       "      <td>-0.042</td>\n",
       "      <td>-0.302</td>\n",
       "      <td>0.620</td>\n",
       "      <td>-0.115</td>\n",
       "      <td>0.433</td>\n",
       "      <td>0.187</td>\n",
       "    </tr>\n",
       "    <tr>\n",
       "      <th>4</th>\n",
       "      <td>12.413</td>\n",
       "      <td>11.787</td>\n",
       "      <td>11.491</td>\n",
       "      <td>-0.009</td>\n",
       "      <td>-0.626</td>\n",
       "      <td>0.296</td>\n",
       "      <td>-0.439</td>\n",
       "      <td>0.109</td>\n",
       "      <td>0.187</td>\n",
       "    </tr>\n",
       "    <tr>\n",
       "      <th>5</th>\n",
       "      <td>12.413</td>\n",
       "      <td>12.144</td>\n",
       "      <td>11.293</td>\n",
       "      <td>-0.065</td>\n",
       "      <td>-0.269</td>\n",
       "      <td>0.851</td>\n",
       "      <td>-0.082</td>\n",
       "      <td>0.664</td>\n",
       "      <td>0.187</td>\n",
       "    </tr>\n",
       "    <tr>\n",
       "      <th>6</th>\n",
       "      <td>12.413</td>\n",
       "      <td>12.155</td>\n",
       "      <td>11.165</td>\n",
       "      <td>-0.078</td>\n",
       "      <td>-0.258</td>\n",
       "      <td>0.990</td>\n",
       "      <td>-0.071</td>\n",
       "      <td>0.803</td>\n",
       "      <td>0.187</td>\n",
       "    </tr>\n",
       "    <tr>\n",
       "      <th>7</th>\n",
       "      <td>12.413</td>\n",
       "      <td>12.133</td>\n",
       "      <td>11.395</td>\n",
       "      <td>-0.054</td>\n",
       "      <td>-0.280</td>\n",
       "      <td>0.738</td>\n",
       "      <td>-0.093</td>\n",
       "      <td>0.551</td>\n",
       "      <td>0.187</td>\n",
       "    </tr>\n",
       "    <tr>\n",
       "      <th>8</th>\n",
       "      <td>12.413</td>\n",
       "      <td>12.145</td>\n",
       "      <td>11.300</td>\n",
       "      <td>-0.064</td>\n",
       "      <td>-0.268</td>\n",
       "      <td>0.845</td>\n",
       "      <td>-0.081</td>\n",
       "      <td>0.658</td>\n",
       "      <td>0.187</td>\n",
       "    </tr>\n",
       "    <tr>\n",
       "      <th>9</th>\n",
       "      <td>12.413</td>\n",
       "      <td>12.092</td>\n",
       "      <td>11.555</td>\n",
       "      <td>-0.034</td>\n",
       "      <td>-0.321</td>\n",
       "      <td>0.537</td>\n",
       "      <td>-0.134</td>\n",
       "      <td>0.350</td>\n",
       "      <td>0.187</td>\n",
       "    </tr>\n",
       "    <tr>\n",
       "      <th>10</th>\n",
       "      <td>12.413</td>\n",
       "      <td>11.659</td>\n",
       "      <td>11.395</td>\n",
       "      <td>-0.007</td>\n",
       "      <td>-0.754</td>\n",
       "      <td>0.264</td>\n",
       "      <td>-0.567</td>\n",
       "      <td>0.077</td>\n",
       "      <td>0.187</td>\n",
       "    </tr>\n",
       "    <tr>\n",
       "      <th>11</th>\n",
       "      <td>12.413</td>\n",
       "      <td>11.555</td>\n",
       "      <td>11.300</td>\n",
       "      <td>-0.005</td>\n",
       "      <td>-0.858</td>\n",
       "      <td>0.255</td>\n",
       "      <td>-0.671</td>\n",
       "      <td>0.068</td>\n",
       "      <td>0.187</td>\n",
       "    </tr>\n",
       "    <tr>\n",
       "      <th>12</th>\n",
       "      <td>12.413</td>\n",
       "      <td>11.863</td>\n",
       "      <td>11.555</td>\n",
       "      <td>-0.012</td>\n",
       "      <td>-0.550</td>\n",
       "      <td>0.308</td>\n",
       "      <td>-0.363</td>\n",
       "      <td>0.121</td>\n",
       "      <td>0.187</td>\n",
       "    </tr>\n",
       "  </tbody>\n",
       "</table>\n",
       "</div>"
      ],
      "text/plain": [
       "    Objeto   Lente  Pantalla  Tamaño      a  a_prima      z  z_prima  f_exp\n",
       "0   12.413  12.137    11.357  -0.057 -0.276    0.780 -0.089    0.593  0.187\n",
       "1   12.413  12.097    11.523  -0.036 -0.316    0.574 -0.129    0.387  0.187\n",
       "2   12.413  12.082    11.557  -0.032 -0.331    0.525 -0.144    0.338  0.187\n",
       "3   12.413  12.111    11.491  -0.042 -0.302    0.620 -0.115    0.433  0.187\n",
       "4   12.413  11.787    11.491  -0.009 -0.626    0.296 -0.439    0.109  0.187\n",
       "5   12.413  12.144    11.293  -0.065 -0.269    0.851 -0.082    0.664  0.187\n",
       "6   12.413  12.155    11.165  -0.078 -0.258    0.990 -0.071    0.803  0.187\n",
       "7   12.413  12.133    11.395  -0.054 -0.280    0.738 -0.093    0.551  0.187\n",
       "8   12.413  12.145    11.300  -0.064 -0.268    0.845 -0.081    0.658  0.187\n",
       "9   12.413  12.092    11.555  -0.034 -0.321    0.537 -0.134    0.350  0.187\n",
       "10  12.413  11.659    11.395  -0.007 -0.754    0.264 -0.567    0.077  0.187\n",
       "11  12.413  11.555    11.300  -0.005 -0.858    0.255 -0.671    0.068  0.187\n",
       "12  12.413  11.863    11.555  -0.012 -0.550    0.308 -0.363    0.121  0.187"
      ]
     },
     "execution_count": 22,
     "metadata": {},
     "output_type": "execute_result"
    }
   ],
   "source": [
    "parax['z'] = parax['a'] + f\n",
    "parax['z_prima'] = parax['a_prima'] - f\n",
    "parax['f_exp'] = f\n",
    "parax"
   ]
  },
  {
   "cell_type": "code",
   "execution_count": 44,
   "metadata": {},
   "outputs": [
    {
     "name": "stdout",
     "output_type": "stream",
     "text": [
      "Slope: 6.755332438615935e-30 ± 1.067946942246963e-15\n",
      "Intercept: 0.034969000000000014 ± 5.316220371448526e-17\n",
      "R²: 3.6374866977162744e-30\n"
     ]
    },
    {
     "data": {
      "text/plain": [
       "<matplotlib.legend.Legend at 0x222d98995e0>"
      ]
     },
     "execution_count": 44,
     "metadata": {},
     "output_type": "execute_result"
    },
    {
     "data": {
      "image/png": "[encoded data removed]",
      "text/plain": [
       "<Figure size 1000x500 with 1 Axes>"
      ]
     },
     "metadata": {},
     "output_type": "display_data"
    }
   ],
   "source": [
    "X = parax['z']*parax['z_prima']\n",
    "y = parax['f_exp']**2\n",
    "\n",
    "results = linregress(X, y)\n",
    "\n",
    "slope = results.slope\n",
    "intercept = results.intercept\n",
    "r2 = results.rvalue**2\n",
    "\n",
    "slope_error = results.stderr\n",
    "intercept_error = results.intercept_stderr\t\n",
    "\n",
    "print(f\"Slope: {slope:} ± {slope_error:}\")\n",
    "print(f\"Intercept: {intercept} ± {intercept_error}\")\n",
    "print(f\"R²: {r2}\")\n",
    "\n",
    "plt.figure(figsize=(10, 5))\n",
    "X_new = np.linspace(X.min(), X.max(), 100)\n",
    "\n",
    "plt.errorbar(X, y, xerr=0.0002, yerr=0.00002, label='zz\\'', fmt='x')\n",
    "plt.plot(X_new, slope*X_new + intercept, '--', label='Ajuste lineal')\n",
    "\n",
    "plt.ylim(0.03475, 0.03525)\n",
    "\n",
    "plt.xlabel('zz\\' (m$^2$)')\n",
    "plt.ylabel('f$^2$ (m$^2$)')\n",
    "plt.title('f$^2$ en función de zz\\'')\n",
    "\n",
    "plt.legend()"
   ]
  },
  {
   "cell_type": "code",
   "execution_count": 45,
   "metadata": {},
   "outputs": [
    {
     "name": "stdout",
     "output_type": "stream",
     "text": [
      "Slope % error: 6.755332438615934e-28 %\n",
      "Intercept % error: 3.9685972741040516e-14 %\n"
     ]
    }
   ],
   "source": [
    "print(f\"Slope % error: {(slope-0)*100} %\")\n",
    "print(f\"Intercept % error: {(intercept-f**2)/(f**2)*100} %\")"
   ]
  }
 ],
 "metadata": {
  "kernelspec": {
   "display_name": "Python 3",
   "language": "python",
   "name": "python3"
  },
  "language_info": {
   "codemirror_mode": {
    "name": "ipython",
    "version": 3
   },
   "file_extension": ".py",
   "mimetype": "text/x-python",
   "name": "python",
   "nbconvert_exporter": "python",
   "pygments_lexer": "ipython3",
   "version": "3.12.1"
  }
 },
 "nbformat": 4,
 "nbformat_minor": 2
}
